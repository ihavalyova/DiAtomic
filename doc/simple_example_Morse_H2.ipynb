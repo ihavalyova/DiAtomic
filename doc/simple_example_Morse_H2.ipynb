{
 "cells": [
  {
   "cell_type": "markdown",
   "metadata": {},
   "source": [
    "# Example: calculating the energy levels of $H_2$ molecule\n",
    "\n",
    "This notebook will demonstrate how to use the DiAtomic library to calculate the energy eigenvalues of $H_2$ molecule."
   ]
  },
  {
   "cell_type": "code",
   "execution_count": null,
   "metadata": {},
   "outputs": [],
   "source": [
    "from diatomic import *"
   ]
  },
  {
   "cell_type": "markdown",
   "metadata": {},
   "source": [
    "### Create the Molecule Data object\n",
    "\n",
    "Instantiate the Molecule Data object and provide the neccessary input information which to be used in the following computations like \n",
    "- the chemical symbol of the molecule\n",
    "- the isotope(s) to be computed\n",
    "- the rotational qunatum numbers\n",
    "- the parity levels\n",
    "- etc."
   ]
  },
  {
   "cell_type": "code",
   "execution_count": null,
   "metadata": {},
   "outputs": [],
   "source": [
    "# Instantiate the object\n",
    "mdata = MoleculeData()\n",
    "\n",
    "# Write H2 symbol\n",
    "mdata.molecule = ['1H1H']\n",
    "\n",
    "# Explicitly select the 1st (and in this case the only) isotope\n",
    "mdata.nisotopes = [1]\n",
    "\n",
    "# Select a range for J\n",
    "mdata.jrange = (0, 1)"
   ]
  },
  {
   "cell_type": "markdown",
   "metadata": {},
   "source": [
    "### Create Grid Object\n",
    "\n",
    "Provide the number of grid points and the range of internuclear distances"
   ]
  },
  {
   "cell_type": "code",
   "execution_count": null,
   "metadata": {},
   "outputs": [],
   "source": [
    "grid = Grid(npoints=170, rgrid=(0.3, 2.5))"
   ]
  },
  {
   "cell_type": "markdown",
   "metadata": {},
   "source": [
    "### Create Channel Object\n",
    "\n",
    "Provide the potential file, the type of the PEC model, $\\Lambda$, $\\Sigma$ and multiplicity of the state"
   ]
  },
  {
   "cell_type": "code",
   "execution_count": null,
   "metadata": {},
   "outputs": [],
   "source": [
    "ch1 = Channel(filep='morse_H2.pot', model='morse', nlambda=0, sigma=0, multiplicity=1)"
   ]
  },
  {
   "cell_type": "markdown",
   "metadata": {},
   "source": [
    "The potential file in this case looks like:\n",
    "\n",
    "```python\n",
    "Te =   0.0000000          0\n",
    "De =   3.8276634e+04      0\n",
    "a  =   1.9419600          0\n",
    "re =   0.7419100          0\n",
    "```"
   ]
  },
  {
   "cell_type": "markdown",
   "metadata": {},
   "source": [
    "then set the channels for which the energies should be computed"
   ]
  },
  {
   "cell_type": "code",
   "execution_count": null,
   "metadata": {},
   "outputs": [],
   "source": [
    "# create a list with all or some of the defined Channel objects\n",
    "channels = [ch1]\n",
    "\n",
    "# then call the function\n",
    "Channel.set_channel_parameters(channels)"
   ]
  },
  {
   "cell_type": "markdown",
   "metadata": {},
   "source": [
    "### Create Molecule Levels Object\n",
    "\n",
    "Provide the created ```MoleculeData``` and ```Grid``` objects together with the list of channels"
   ]
  },
  {
   "cell_type": "code",
   "execution_count": null,
   "metadata": {},
   "outputs": [],
   "source": [
    "mlevels = MoleculeLevels(mdata, grid, channels)"
   ]
  },
  {
   "cell_type": "markdown",
   "metadata": {},
   "source": [
    "### Calculate the energy eigenvalues\n",
    "\n",
    "The final step is to call the ```calculate_levels``` function on the created ```MoleculeLevels``` object"
   ]
  },
  {
   "cell_type": "code",
   "execution_count": null,
   "metadata": {},
   "outputs": [],
   "source": [
    "mlevels.calculate_levels()"
   ]
  },
  {
   "cell_type": "markdown",
   "metadata": {},
   "source": [
    "The generated output file looks like:\n",
    "\n",
    "```python\n",
    "#     No  v      Ecalc          J   parity  marker   CC1    state  lambda   omega\n",
    "      1   0    2165.954681     0.0     0      1     1.000      1      0     0.00\n",
    "      2   1    6308.624389     0.0     0      1     1.000      1      0     0.00\n",
    "      3   2   10198.976338     0.0     0      1     1.000      1      0     0.00\n",
    "      4   3   13837.015745     0.0     0      1     1.000      1      0     0.00\n",
    "      5   4   17222.753191     0.0     0      1     1.000      1      0     0.00\n",
    "      6   5   20356.205017     0.0     0      1     1.000      1      0     0.00\n",
    "      7   6   23237.390221     0.0     0      1     1.000      1      0     0.00\n",
    "      8   7   25866.323436     0.0     0      1     1.000      1      0     0.00\n",
    "```"
   ]
  },
  {
   "cell_type": "code",
   "execution_count": null,
   "metadata": {},
   "outputs": [],
   "source": []
  }
 ],
 "metadata": {
  "kernelspec": {
   "display_name": "Python 3",
   "language": "python",
   "name": "python3"
  },
  "language_info": {
   "codemirror_mode": {
    "name": "ipython",
    "version": 3
   },
   "file_extension": ".py",
   "mimetype": "text/x-python",
   "name": "python",
   "nbconvert_exporter": "python",
   "pygments_lexer": "ipython3",
   "version": "3.8.5"
  }
 },
 "nbformat": 4,
 "nbformat_minor": 2
}
