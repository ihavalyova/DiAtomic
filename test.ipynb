{
 "cells": [
  {
   "cell_type": "code",
   "execution_count": 2,
   "metadata": {},
   "outputs": [],
   "source": [
    "# test doc"
   ]
  },
  {
   "cell_type": "markdown",
   "metadata": {},
   "source": [
    "$$\n",
    "E_{i}^{obs} - E_{i}^{cal}(\\mathbf{x}^{(0)}) - \\sum_{j=1}^{m} \\frac{\\partial{E_{i}^{cal}}}{\\partial x_{j}} \\bigg\\rvert_{x_j=x_{j}^{(0)}} \\Delta x_{j} = 0\n",
    "$$"
   ]
  },
  {
   "cell_type": "markdown",
   "metadata": {},
   "source": [
    "$$\n",
    "T_{ij} = \\frac{\\hbar^2}{2\\mu \\Delta R^2} \\times \\begin{cases} \\frac{5}{2}, & j = i\\\\ -\\frac{4}{3}, & j = i\\pm 1\\\\ \\frac{1}{12}, & j = i\\pm 2 \\end{cases}\n",
    "$$"
   ]
  }
 ],
 "metadata": {
  "kernelspec": {
   "display_name": "Python 3",
   "language": "python",
   "name": "python3"
  },
  "language_info": {
   "codemirror_mode": {
    "name": "ipython",
    "version": 3
   },
   "file_extension": ".py",
   "mimetype": "text/x-python",
   "name": "python",
   "nbconvert_exporter": "python",
   "pygments_lexer": "ipython3",
   "version": "3.8.5"
  }
 },
 "nbformat": 4,
 "nbformat_minor": 4
}
